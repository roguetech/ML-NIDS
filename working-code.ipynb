{
 "metadata": {
  "language_info": {
   "codemirror_mode": {
    "name": "ipython",
    "version": 3
   },
   "file_extension": ".py",
   "mimetype": "text/x-python",
   "name": "python",
   "nbconvert_exporter": "python",
   "pygments_lexer": "ipython3",
   "version": "3.9.5"
  },
  "orig_nbformat": 2,
  "kernelspec": {
   "name": "python395jvsc74a57bd031f2aee4e71d21fbe5cf8b01ff0e069b9275f58929596ceb00d14d90e3e16cd6",
   "display_name": "Python 3.9.5 64-bit"
  }
 },
 "nbformat": 4,
 "nbformat_minor": 2,
 "cells": [
  {
   "cell_type": "code",
   "execution_count": 1,
   "metadata": {},
   "outputs": [],
   "source": [
    "import pandas as pd\n",
    "from datetime import datetime"
   ]
  },
  {
   "cell_type": "code",
   "execution_count": 3,
   "metadata": {},
   "outputs": [],
   "source": [
    "packet_df = pd.DataFrame(columns=['src_address','dst_address','src_port','dst_port'])"
   ]
  },
  {
   "cell_type": "code",
   "execution_count": 4,
   "metadata": {},
   "outputs": [
    {
     "output_type": "stream",
     "name": "stdout",
     "text": [
      "Empty DataFrame\nColumns: [src_address, dst_address, src_port, dst_port]\nIndex: []\n"
     ]
    }
   ],
   "source": [
    "print(packet_df)"
   ]
  },
  {
   "cell_type": "code",
   "execution_count": 5,
   "metadata": {},
   "outputs": [
    {
     "output_type": "stream",
     "name": "stdout",
     "text": [
      "1625327067\n"
     ]
    }
   ],
   "source": [
    "#epoch = datetime.now()\n",
    "time = datetime.now().timestamp()\n",
    "print(int(time))"
   ]
  },
  {
   "cell_type": "code",
   "execution_count": 2,
   "metadata": {},
   "outputs": [],
   "source": [
    "packets = []\n",
    "p = ['192.168.1.1', '172.168.9.5', '456', '80', '123']\n",
    "packets.append(p)"
   ]
  },
  {
   "cell_type": "code",
   "execution_count": null,
   "metadata": {},
   "outputs": [],
   "source": []
  },
  {
   "cell_type": "code",
   "execution_count": 3,
   "metadata": {},
   "outputs": [
    {
     "output_type": "stream",
     "name": "stdout",
     "text": [
      "[['192.168.1.1', '172.168.9.5', '456', '80', '123']]\n"
     ]
    }
   ],
   "source": [
    "print(packets)"
   ]
  },
  {
   "cell_type": "code",
   "execution_count": 6,
   "metadata": {},
   "outputs": [],
   "source": [
    "p = ['10.18.15.1', '172.168.9.5', '90', '80', '45575746', '0', str(int(time))]\n",
    "packets.append(p)"
   ]
  },
  {
   "cell_type": "code",
   "execution_count": null,
   "metadata": {},
   "outputs": [],
   "source": []
  },
  {
   "cell_type": "code",
   "execution_count": 7,
   "metadata": {},
   "outputs": [
    {
     "output_type": "stream",
     "name": "stdout",
     "text": [
      "[['192.168.1.1', '172.168.9.5', '456', '80', '123'], ['10.18.15.1', '172.168.9.5', '90', '80', '45575746', '0', '1625327067']]\n"
     ]
    }
   ],
   "source": [
    "print(packets)"
   ]
  },
  {
   "cell_type": "code",
   "execution_count": 11,
   "metadata": {},
   "outputs": [],
   "source": [
    "for i in packets:\n",
    "    if i[0] == '192.168.5.1' and i[1] == '172.168.9.5' and i[2] == '456' and i[3] == '80':\n",
    "        src_bytes = '58363'\n",
    "        i[4] = int(i[4]) + int(src_bytes)\n",
    "        print(i)\n",
    "    else:\n",
    "        q = ['10.18.15.1', '172.168.9.5', '90', '80']\n",
    "        #p = ['10.18.15.1', '172.168.9.5', '90', '80', '45575746', '0', str(datetime.now().timestamp())]\n",
    "        packets.append(q)"
   ]
  },
  {
   "cell_type": "code",
   "execution_count": 9,
   "metadata": {},
   "outputs": [
    {
     "output_type": "stream",
     "name": "stdout",
     "text": [
      "[['192.168.1.1', '172.168.9.5', '456', '80', '123'], ['10.18.15.1', '172.168.9.5', '90', '80', '45575746', '0', '1625327067']]\n"
     ]
    }
   ],
   "source": [
    "print(packets)"
   ]
  },
  {
   "cell_type": "code",
   "execution_count": null,
   "metadata": {},
   "outputs": [],
   "source": []
  }
 ]
}