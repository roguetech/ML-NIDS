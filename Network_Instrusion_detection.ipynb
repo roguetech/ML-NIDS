{
  "nbformat": 4,
  "nbformat_minor": 0,
  "metadata": {
    "colab": {
      "name": "Network_Instrusion_detection.ipynb",
      "provenance": [],
      "authorship_tag": "ABX9TyNomMOQK+afSQVJDQD4I+s+",
      "include_colab_link": true
    },
    "kernelspec": {
      "name": "python3",
      "display_name": "Python 3"
    },
    "language_info": {
      "name": "python"
    }
  },
  "cells": [
    {
      "cell_type": "markdown",
      "metadata": {
        "id": "view-in-github",
        "colab_type": "text"
      },
      "source": [
        "<a href=\"https://colab.research.google.com/github/roguetech/ML-NIDS/blob/master/Network_Instrusion_detection.ipynb\" target=\"_parent\"><img src=\"https://colab.research.google.com/assets/colab-badge.svg\" alt=\"Open In Colab\"/></a>"
      ]
    },
    {
      "cell_type": "markdown",
      "metadata": {
        "id": "hsyFCCz0rITH"
      },
      "source": [
        "Library Import"
      ]
    },
    {
      "cell_type": "code",
      "metadata": {
        "id": "10kEcMr4q8Fo"
      },
      "source": [
        ""
      ],
      "execution_count": null,
      "outputs": []
    },
    {
      "cell_type": "markdown",
      "metadata": {
        "id": "s4U4KfGWrPGa"
      },
      "source": [
        "Import Dataset"
      ]
    },
    {
      "cell_type": "code",
      "metadata": {
        "id": "JPJ9U3J7rSqS"
      },
      "source": [
        ""
      ],
      "execution_count": null,
      "outputs": []
    },
    {
      "cell_type": "markdown",
      "metadata": {
        "id": "z_zfap6jrTMv"
      },
      "source": [
        "Format Data"
      ]
    },
    {
      "cell_type": "code",
      "metadata": {
        "id": "5kmsXhNsrYpm"
      },
      "source": [
        ""
      ],
      "execution_count": null,
      "outputs": []
    },
    {
      "cell_type": "markdown",
      "metadata": {
        "id": "IEBzcI84rZP3"
      },
      "source": [
        "Explorary Data Analysis"
      ]
    },
    {
      "cell_type": "code",
      "metadata": {
        "id": "0MOsz7yfreqN"
      },
      "source": [
        ""
      ],
      "execution_count": null,
      "outputs": []
    },
    {
      "cell_type": "markdown",
      "metadata": {
        "id": "fgZnATJvrfXq"
      },
      "source": [
        "Variantal Autoencoding"
      ]
    },
    {
      "cell_type": "code",
      "metadata": {
        "id": "weyUhLrGx4qz"
      },
      "source": [
        ""
      ],
      "execution_count": null,
      "outputs": []
    },
    {
      "cell_type": "markdown",
      "metadata": {
        "id": "h2CMyr4Ix5dr"
      },
      "source": [
        "Autoencoder Training"
      ]
    },
    {
      "cell_type": "code",
      "metadata": {
        "id": "-_wKyoPBx-l0"
      },
      "source": [
        ""
      ],
      "execution_count": null,
      "outputs": []
    },
    {
      "cell_type": "markdown",
      "metadata": {
        "id": "ZYQPJsKdyAi8"
      },
      "source": [
        "Result Analysis"
      ]
    },
    {
      "cell_type": "code",
      "metadata": {
        "id": "pwInQC7ByFY-"
      },
      "source": [
        ""
      ],
      "execution_count": null,
      "outputs": []
    }
  ]
}